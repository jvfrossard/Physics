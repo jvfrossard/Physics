{
 "cells": [
  {
   "cell_type": "markdown",
   "metadata": {},
   "source": [
    "# Symbolic and numerical integrations using Python"
   ]
  },
  {
   "cell_type": "markdown",
   "metadata": {},
   "source": [
    "We have a very specific problem: calculate the ground state energy per site of a Ising model (a kind of quantum system on a lattice) as a function of $g$. This energy can be calculated using the following equation (this equation can be found at the article DAMSKI, B. \"Fidelity susceptibility of the quantum Ising model in a transverse field: The exact solution\". Physical Review E, v. 87, n. 5, p. 052131, 2013):\n",
    "\n",
    "$ \\epsilon(g) = \\frac{1}{\\pi}\\int_0^{\\pi}\\sqrt{(g - \\cos(x))^2 + \\sin^2(x)}dx$.\n",
    "\n",
    "To do this calculation in Python we use the sympy library, which integrates symbolic functions. But first we simplify the expression using the mentioned library as in the code below."
   ]
  },
  {
   "cell_type": "code",
   "execution_count": 21,
   "metadata": {},
   "outputs": [
    {
     "name": "stdout",
     "output_type": "stream",
     "text": [
      "sqrt(g**2 - 2*g*cos(x) + 1)\n"
     ]
    }
   ],
   "source": [
    "#Importing necessary libraries\n",
    "import sympy as sym\n",
    "\n",
    "x = sym.Symbol('x') #To guarantee that x is a symbolic variable, \n",
    "#not a computational variable\n",
    "g = sym.Symbol('g') \n",
    "\n",
    "I = sym.simplify(sqrt((g - cos(x))**2 + sin(x)**2))\n",
    "\n",
    "print(I)"
   ]
  },
  {
   "cell_type": "markdown",
   "metadata": {},
   "source": [
    "Now we can perform the definite integral using sympy library:"
   ]
  },
  {
   "cell_type": "code",
   "execution_count": 22,
   "metadata": {},
   "outputs": [
    {
     "name": "stdout",
     "output_type": "stream",
     "text": [
      "Integral(sqrt(g**2 - 2*g*cos(x) + 1), (x, 0, pi))/pi\n"
     ]
    }
   ],
   "source": [
    "#Importing necessary libraries\n",
    "import sympy as sym\n",
    "\n",
    "x = sym.Symbol('x') \n",
    "g = sym.Symbol('g') \n",
    "\n",
    "#Simplifying the result\n",
    "I = sym.simplify(sqrt((g - cos(x))**2 + sin(x)**2))\n",
    "\n",
    "#Calculating the symbolic integral\n",
    "e = (1/sym.pi)*sym.integrate(I,(x,0,sym.pi))\n",
    "\n",
    "print(e)"
   ]
  },
  {
   "cell_type": "markdown",
   "metadata": {},
   "source": [
    "Note that the code does not give us a result: it does not calculated the integral! It is because the integral is not made by elementary functions. Integrals (or other expressions) that can not be put as a combination of elementary functions is called a special function. The integral we want to solve it is a special function. But, unfortunately, sympy can not decompose integrals into special functions, so we must need another Python library: the scipy. With this library we can perform a numerical integration which will gives our result for a given number of $g$. Then we iterate for all $g$ to recover the function of interest. Let us see about this."
   ]
  },
  {
   "cell_type": "code",
   "execution_count": 47,
   "metadata": {},
   "outputs": [
    {
     "name": "stdout",
     "output_type": "stream",
     "text": [
      "%d \n",
      " (3.9999999999999996, 4.4408920985006255e-14)\n",
      "1.2732395447351625\n"
     ]
    }
   ],
   "source": [
    "#Importing necessary libraries\n",
    "from numpy import pi\n",
    "from sympy import sqrt, cos, sin\n",
    "from scipy import integrate\n",
    "\n",
    "g = 1.0\n",
    "\n",
    "y = lambda x: sqrt((g-cos(x))**2 + sin(x)**2)\n",
    "I = integrate.quad(y, 0, pi)\n",
    "\n",
    "print(I)\n",
    "\n",
    "e = (1/pi)*I[0]\n",
    "\n",
    "print(e)"
   ]
  },
  {
   "cell_type": "markdown",
   "metadata": {},
   "source": [
    "Note that now we can calculate our desired definite integral using numerical integration resources from scipy. Finally we need to recompute the energy $\\epsilon$ for $g$ in the interval $[0,2]$ and this can be done by the following loop:"
   ]
  },
  {
   "cell_type": "code",
   "execution_count": 48,
   "metadata": {},
   "outputs": [
    {
     "name": "stdout",
     "output_type": "stream",
     "text": [
      "1.0\n",
      "1.002501566421584\n",
      "1.0100252539845789\n",
      "1.0226295149208584\n",
      "1.0404170862358302\n",
      "1.063544409973372\n",
      "1.0922385835544972\n",
      "1.1268286675869728\n",
      "1.1678095085207265\n",
      "1.2160009141097237\n",
      "1.2732395447351625\n",
      "1.342864022725127\n",
      "1.4196192748982297\n",
      "1.5008232436750164\n",
      "1.585188300053977\n",
      "1.6719262215361952\n",
      "1.760508122204593\n",
      "1.8505593362793402\n",
      "1.9418043043913793\n",
      "2.034034558740953\n",
      "2.1270888199467435\n"
     ]
    }
   ],
   "source": [
    "#Importing necessary libraries\n",
    "from numpy import pi\n",
    "from sympy import sqrt, cos, sin\n",
    "from scipy import integrate\n",
    "\n",
    "#Do the loop calculation\n",
    "for i in range(0,21):\n",
    "    g = 0.1*i\n",
    "\n",
    "    y = lambda x: sqrt((g-cos(x))**2 + sin(x)**2)\n",
    "    I = integrate.quad(y, 0, pi)\n",
    "\n",
    "    e = (1/pi)*I[0]\n",
    "\n",
    "    print(e)"
   ]
  },
  {
   "cell_type": "markdown",
   "metadata": {},
   "source": [
    "With these results we can plot the energy as a function of $g$ to see the shape of the function and how $\\epsilon$ varies as $g$ increases. The following code do the job."
   ]
  },
  {
   "cell_type": "code",
   "execution_count": 70,
   "metadata": {},
   "outputs": [
    {
     "data": {
      "image/png": "[encoded data removed]",
      "text/plain": [
       "<Figure size 432x288 with 1 Axes>"
      ]
     },
     "metadata": {
      "needs_background": "light"
     },
     "output_type": "display_data"
    }
   ],
   "source": [
    "#Importing necessary libraries\n",
    "import matplotlib.pyplot as plt\n",
    "import numpy as np\n",
    "from sympy import sqrt, cos, sin\n",
    "from scipy import integrate\n",
    "\n",
    "#Start numpy arrays full with zeros to store the calculation results\n",
    "result = np.zeros(21)\n",
    "g = np.zeros(21)\n",
    "\n",
    "#Start a numpy array for the values of g\n",
    "for i in range(0,21):\n",
    "    g[i] = 0.1*i\n",
    "\n",
    "#Do the loop calculation\n",
    "for i in range(0,21):\n",
    "    y = lambda x: sqrt((g[i]-cos(x))**2 + sin(x)**2)\n",
    "    I = integrate.quad(y, 0, np.pi)\n",
    "\n",
    "    e = (1/np.pi)*I[0]\n",
    "    result[i] = e\n",
    "    \n",
    "#Plot the result\n",
    "plt.plot(g,result,linewidth=2)\n",
    "plt.xlabel(r'g', fontsize=22)\n",
    "plt.ylabel(r'Ground state energy',fontsize=22)\n",
    "plt.title('Analytical solution of Ising model')\n",
    "plt.show()"
   ]
  },
  {
   "cell_type": "markdown",
   "metadata": {},
   "source": [
    "# Final remarks"
   ]
  },
  {
   "cell_type": "markdown",
   "metadata": {},
   "source": [
    "The goal of this short Jupyter notebook is to show how one can perform symbolic operations using sympy and some integral calculations using both sympy and scipy. We started from a famous physics problem, the Ising model, and showed an applied example where (complicated) integrals appear. The integral seems so easily to handle, but as we stated it is hard to solve and can not be expressed in terms of elementary functions. We did one preliminary step, showing how we can perform symbolic simplifications using sympy and then showed the strange result: the sympy library does not give us anything! Finally we stressed how to solve the same problem but now using numeric integration from scipy and show how to iterate the calculations for a given set of the $g$ parameter."
   ]
  },
  {
   "cell_type": "markdown",
   "metadata": {},
   "source": [
    "We expect that the reader can now be more familiar with these calculations and does not need to fear bad results and inexpected ones: there is always a way to solve them. \n",
    "\n",
    "Any doubts, suggests, comments and other information send me an email: jvfrossard@gmail.com \n",
    "\n",
    "Thank you very much and see you in the next calculation!"
   ]
  },
  {
   "cell_type": "markdown",
   "metadata": {},
   "source": [
    "P.S.: As a matter of curiosity, the results obtained here from numeric integration indeed have good agreement with those showed in the literature and with other numerical methods."
   ]
  },
  {
   "cell_type": "code",
   "execution_count": null,
   "metadata": {},
   "outputs": [],
   "source": []
  }
 ],
 "metadata": {
  "kernelspec": {
   "display_name": "Python 3",
   "language": "python",
   "name": "python3"
  },
  "language_info": {
   "codemirror_mode": {
    "name": "ipython",
    "version": 3
   },
   "file_extension": ".py",
   "mimetype": "text/x-python",
   "name": "python",
   "nbconvert_exporter": "python",
   "pygments_lexer": "ipython3",
   "version": "3.9.0"
  }
 },
 "nbformat": 4,
 "nbformat_minor": 4
}
